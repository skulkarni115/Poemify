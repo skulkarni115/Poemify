{
  "nbformat": 4,
  "nbformat_minor": 0,
  "metadata": {
    "colab": {
      "provenance": [],
      "gpuType": "V100",
      "machine_shape": "hm"
    },
    "kernelspec": {
      "name": "python3",
      "display_name": "Python 3"
    },
    "language_info": {
      "name": "python"
    },
    "accelerator": "GPU"
  },
  "cells": [
    {
      "cell_type": "code",
      "source": [
        "!pip install datasets -q"
      ],
      "metadata": {
        "id": "vOqMsG2oFmuX",
        "colab": {
          "base_uri": "https://localhost:8080/"
        },
        "outputId": "f145de70-2ed3-4875-83f6-cf88635efe3f"
      },
      "execution_count": null,
      "outputs": [
        {
          "output_type": "stream",
          "name": "stdout",
          "text": [
            "\u001b[2K     \u001b[90m━━━━━━━━━━━━━━━━━━━━━━━━━━━━━━━━━━━━━━━━\u001b[0m \u001b[32m510.5/510.5 kB\u001b[0m \u001b[31m8.9 MB/s\u001b[0m eta \u001b[36m0:00:00\u001b[0m\n",
            "\u001b[2K     \u001b[90m━━━━━━━━━━━━━━━━━━━━━━━━━━━━━━━━━━━━━━━━\u001b[0m \u001b[32m116.3/116.3 kB\u001b[0m \u001b[31m10.8 MB/s\u001b[0m eta \u001b[36m0:00:00\u001b[0m\n",
            "\u001b[2K     \u001b[90m━━━━━━━━━━━━━━━━━━━━━━━━━━━━━━━━━━━━━━━━\u001b[0m \u001b[32m194.1/194.1 kB\u001b[0m \u001b[31m11.7 MB/s\u001b[0m eta \u001b[36m0:00:00\u001b[0m\n",
            "\u001b[2K     \u001b[90m━━━━━━━━━━━━━━━━━━━━━━━━━━━━━━━━━━━━━━━━\u001b[0m \u001b[32m134.8/134.8 kB\u001b[0m \u001b[31m12.2 MB/s\u001b[0m eta \u001b[36m0:00:00\u001b[0m\n",
            "\u001b[?25h"
          ]
        }
      ]
    },
    {
      "cell_type": "code",
      "source": [
        "import json\n",
        "import os\n",
        "import datasets\n",
        "from pathlib import Path\n",
        "import shutil\n",
        "import pandas as pd\n",
        "import random"
      ],
      "metadata": {
        "id": "CdLzUXOHZ4f8"
      },
      "execution_count": null,
      "outputs": []
    },
    {
      "cell_type": "code",
      "execution_count": null,
      "metadata": {
        "colab": {
          "base_uri": "https://localhost:8080/"
        },
        "id": "HaP-AlhFYkNF",
        "outputId": "039c246c-2cdf-40f1-ac3d-286a381be922"
      },
      "outputs": [
        {
          "output_type": "stream",
          "name": "stdout",
          "text": [
            "Mounted at /content/drive\n"
          ]
        }
      ],
      "source": [
        "from google.colab import drive\n",
        "drive.mount('/content/drive')"
      ]
    },
    {
      "cell_type": "code",
      "source": [
        "#remove the poems that are not in the multim file\n",
        "# Load JSON data\n",
        "with open('/content/drive/MyDrive/LLM Project/multim_poem.json', 'r') as file:\n",
        "  data = json.load(file)"
      ],
      "metadata": {
        "id": "BhbLylKaZhs1"
      },
      "execution_count": null,
      "outputs": []
    },
    {
      "cell_type": "code",
      "source": [
        "new_data = []\n",
        "for item in data:\n",
        "  path = '/content/drive/MyDrive/LLM Project/images/' + str(item['id']) + '.jpg'\n",
        "  if os.path.exists(path):\n",
        "    new_data.append(item)"
      ],
      "metadata": {
        "id": "L1wZsqqWcTwr"
      },
      "execution_count": null,
      "outputs": []
    },
    {
      "cell_type": "code",
      "source": [
        "print(len(new_data))"
      ],
      "metadata": {
        "colab": {
          "base_uri": "https://localhost:8080/"
        },
        "id": "AnU-JKjWkSOb",
        "outputId": "30fce273-0107-4456-97e7-2fa1bfebc4d3"
      },
      "execution_count": null,
      "outputs": [
        {
          "output_type": "stream",
          "name": "stdout",
          "text": [
            "7582\n"
          ]
        }
      ]
    },
    {
      "cell_type": "code",
      "source": [
        "file_path = \"/content/drive/MyDrive/LLM Project/multim_mod.json\"\n",
        "\n",
        "# Write the data to the JSON file\n",
        "with open(file_path, \"w\") as json_file:\n",
        "    json.dump(new_data, json_file)"
      ],
      "metadata": {
        "id": "_-vtDR4skVyS"
      },
      "execution_count": null,
      "outputs": []
    },
    {
      "cell_type": "code",
      "source": [
        "with open('/content/drive/MyDrive/LLM Project/multim_mod.json', 'r') as file:\n",
        "  dat = json.load(file)\n"
      ],
      "metadata": {
        "id": "qoYJNE9kmnF6"
      },
      "execution_count": null,
      "outputs": []
    },
    {
      "cell_type": "code",
      "source": [
        "print(len(dat))"
      ],
      "metadata": {
        "id": "oayhIfjRmrbr",
        "outputId": "caa2a8cf-3d8f-4194-8d5c-702c2e11ba04",
        "colab": {
          "base_uri": "https://localhost:8080/"
        }
      },
      "execution_count": null,
      "outputs": [
        {
          "output_type": "stream",
          "name": "stdout",
          "text": [
            "7582\n"
          ]
        }
      ]
    },
    {
      "cell_type": "code",
      "source": [
        "print(dat[0])"
      ],
      "metadata": {
        "id": "OTKptHQgmuAI",
        "outputId": "88030aed-d0de-4bb3-c383-e9fadc340553",
        "colab": {
          "base_uri": "https://localhost:8080/"
        }
      },
      "execution_count": null,
      "outputs": [
        {
          "output_type": "stream",
          "name": "stdout",
          "text": [
            "{'poem': 'what is lovely never dies\\nbut passes into other loveliness\\nstar-dust or sea-foam flower or winged air', 'image_url': 'https://farm2.staticflickr.com/1086/1002051357_0e9162423e.jpg', 'id': 0}\n"
          ]
        }
      ]
    },
    {
      "cell_type": "code",
      "source": [
        "files = os.listdir('/content/drive/MyDrive/LLM Project/images')\n",
        "print(len(files))"
      ],
      "metadata": {
        "colab": {
          "base_uri": "https://localhost:8080/"
        },
        "id": "96GCAqSve2vS",
        "outputId": "00dbed0a-8408-4a2c-cb08-3042fc07a1b5"
      },
      "execution_count": null,
      "outputs": [
        {
          "output_type": "stream",
          "name": "stdout",
          "text": [
            "7582\n"
          ]
        }
      ]
    },
    {
      "cell_type": "code",
      "source": [
        "files = os.listdir('/content/drive/MyDrive/LLM Project/Formatted_Data/val')\n",
        "print(len(files))"
      ],
      "metadata": {
        "colab": {
          "base_uri": "https://localhost:8080/"
        },
        "id": "WlSQwFdsfFFH",
        "outputId": "3b62b352-052a-4352-ff80-5605b2ac8897"
      },
      "execution_count": null,
      "outputs": [
        {
          "output_type": "stream",
          "name": "stdout",
          "text": [
            "758\n"
          ]
        }
      ]
    },
    {
      "cell_type": "code",
      "source": [
        "def structure_data(source, dest):\n",
        "    \"\"\"\n",
        "    makes the file structure according to huggingface my_dataset_repository\n",
        "\n",
        "    Args:\n",
        "\n",
        "    source: folder where all the images are located\n",
        "    dest: destination of formatted data - will contain 3 folders (train, val , test)\n",
        "    \"\"\"\n",
        "    #get paths for each folder\n",
        "    train_folder = os.path.join(dest, 'train')\n",
        "    test_folder = os.path.join(dest, 'test')\n",
        "    val_folder = os.path.join(dest, 'val')\n",
        "\n",
        "    #create train,test,val folders\n",
        "    os.makedirs(train_folder, exist_ok=True)\n",
        "    os.makedirs(test_folder, exist_ok = True)\n",
        "    os.makedirs(val_folder, exist_ok=True)\n",
        "\n",
        "    # get images in source\n",
        "    all_images = [i for i in os.listdir(source) if i.endswith('.jpg')]\n",
        "\n",
        "    # get num of images in each split\n",
        "    num_train = int(len(all_images)* 0.80)\n",
        "    num_val =  int(len(all_images)* .10)\n",
        "\n",
        "    # randomize images\n",
        "    random.shuffle(all_images)\n",
        "\n",
        "    # copying images to train folder\n",
        "    for i in all_images[:num_train]:\n",
        "        source_path = os.path.join(source, i)\n",
        "        dest_path = os.path.join(train_folder, i)\n",
        "        shutil.copy(source_path, dest_path)\n",
        "\n",
        "    #copy images to val folder\n",
        "    for i in all_images[num_train:num_train + num_val]:\n",
        "        source_path = os.path.join(source, i)\n",
        "        dest_path = os.path.join(val_folder, i)\n",
        "        shutil.copy(source_path, dest_path)\n",
        "\n",
        "    # copying images to test folder\n",
        "    for i in all_images[num_train+num_val:]:\n",
        "        source_path = os.path.join(source, i)\n",
        "        dest_path = os.path.join(test_folder, i)\n",
        "        shutil.copy(source_path, dest_path)"
      ],
      "metadata": {
        "id": "TxVGj53MLnAH"
      },
      "execution_count": null,
      "outputs": []
    },
    {
      "cell_type": "code",
      "source": [
        "source_folder = r\"/content/drive/MyDrive/LLM Project/images\"\n",
        "dest_folder = r\"/content/drive/MyDrive/LLM Project/Formatted_Data\"\n",
        "structure_data(source_folder, dest_folder)"
      ],
      "metadata": {
        "id": "zVJNAOpyQ7NC"
      },
      "execution_count": null,
      "outputs": []
    },
    {
      "cell_type": "code",
      "source": [
        "files = os.listdir('/content/drive/MyDrive/LLM Project/Formatted_Data/train')\n",
        "print(len(files))\n",
        "files = os.listdir('/content/drive/MyDrive/LLM Project/Formatted_Data/test')\n",
        "print(len(files))\n",
        "files = os.listdir('/content/drive/MyDrive/LLM Project/Formatted_Data/val')\n",
        "print(len(files))"
      ],
      "metadata": {
        "colab": {
          "base_uri": "https://localhost:8080/"
        },
        "id": "MuFtzr8gf2vh",
        "outputId": "1c0792b6-1402-42b4-a322-660be4b7bd87"
      },
      "execution_count": null,
      "outputs": [
        {
          "output_type": "stream",
          "name": "stdout",
          "text": [
            "6065\n",
            "759\n",
            "758\n"
          ]
        }
      ]
    },
    {
      "cell_type": "code",
      "source": [
        "def create_metadata(source_folder, dest_folders):\n",
        "    \"\"\"\n",
        "    Creates metadata.jsonl file for huggingface eg. [{ \"file_name\" : \"image.name\" , \"text\" : \"description of the text\"} , ...\n",
        "\n",
        "    Args:\n",
        "    source_folder: where the text data is currently\n",
        "    dest_folders: list of train,val and test folders\n",
        "    \"\"\"\n",
        "    with open(source_folder , 'r') as f:\n",
        "        data = json.load(f)\n",
        "\n",
        "    poem_captions = []\n",
        "    for item in data:\n",
        "      path = str(item['id']) + '.jpg'\n",
        "      poem_captions.append({\"file_name\" : path , \"text\": item['poem']})\n",
        "\n",
        "    for dest_folder_path in dest_folders:\n",
        "        os.makedirs(dest_folder_path, exist_ok=True)\n",
        "        with open(os.path.join(dest_folder_path, 'metadata.jsonl'), 'w') as f:\n",
        "            for item in poem_captions:\n",
        "                f.write(json.dumps(item) + '\\n')\n",
        "    return poem_captions"
      ],
      "metadata": {
        "id": "PmlZF5tvL9nW"
      },
      "execution_count": null,
      "outputs": []
    },
    {
      "cell_type": "code",
      "source": [
        "source_folder = r\"/content/drive/MyDrive/LLM Project/multim_mod.json\"\n",
        "dest_folders = [r\"/content/drive/MyDrive/LLM Project/Formatted_Data/train\",r\"/content/drive/MyDrive/LLM Project/Formatted_Data/test\", r\"/content/drive/MyDrive/LLM Project/Formatted_Data/val\"]\n",
        "dat = create_metadata(source_folder, dest_folders)"
      ],
      "metadata": {
        "id": "94wfd8M1TAVP"
      },
      "execution_count": null,
      "outputs": []
    },
    {
      "cell_type": "code",
      "source": [
        "print(os.path.exists(\"/content/drive/MyDrive/LLM Project/Formatted_Data/train/metadata.jsonl\"))\n",
        "print(os.path.exists(\"/content/drive/MyDrive/LLM Project/Formatted_Data/test/metadata.jsonl\"))\n",
        "print(os.path.exists(\"/content/drive/MyDrive/LLM Project/Formatted_Data/val/metadata.jsonl\"))"
      ],
      "metadata": {
        "colab": {
          "base_uri": "https://localhost:8080/"
        },
        "id": "u96tN6PxfhhB",
        "outputId": "9f2d59bc-5934-4065-f3c7-10479a7bfba9"
      },
      "execution_count": null,
      "outputs": [
        {
          "output_type": "stream",
          "name": "stdout",
          "text": [
            "True\n",
            "True\n",
            "True\n"
          ]
        }
      ]
    },
    {
      "cell_type": "code",
      "source": [
        "files = os.listdir('/content/drive/MyDrive/LLM Project/Formatted_Data/train')\n",
        "print(len(files))\n",
        "files = os.listdir('/content/drive/MyDrive/LLM Project/Formatted_Data/test')\n",
        "print(len(files))\n",
        "files = os.listdir('/content/drive/MyDrive/LLM Project/Formatted_Data/val')\n",
        "print(len(files))"
      ],
      "metadata": {
        "colab": {
          "base_uri": "https://localhost:8080/"
        },
        "id": "1rdVxonEg1MM",
        "outputId": "758c46d2-8abe-41ed-c4fa-27e7d8cd860e"
      },
      "execution_count": null,
      "outputs": [
        {
          "output_type": "stream",
          "name": "stdout",
          "text": [
            "6066\n",
            "760\n",
            "759\n"
          ]
        }
      ]
    }
  ]
}